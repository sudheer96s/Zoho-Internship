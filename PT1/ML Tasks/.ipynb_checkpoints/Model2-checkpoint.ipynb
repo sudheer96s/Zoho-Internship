{
 "cells": [
  {
   "cell_type": "code",
   "execution_count": 7,
   "id": "4e17ea79",
   "metadata": {},
   "outputs": [],
   "source": [
    "import torch\n",
    "import torch.nn as nn\n",
    "import torch.optim as optim\n",
    "from torchvision import datasets, transforms\n",
    "import matplotlib.pyplot as plt"
   ]
  },
  {
   "cell_type": "code",
   "execution_count": 8,
   "id": "f8758ae6",
   "metadata": {},
   "outputs": [],
   "source": [
    "\n",
    "transform = transforms.Compose([\n",
    "    transforms.ToTensor(),\n",
    "    transforms.Normalize((0.5), (0.5))\n",
    "])\n",
    "\n",
    "train_data = datasets.MNIST(root='./home/manchik-pt7714/Documents/ML Tasks/data', train=True, transform=transform, download=True)\n",
    "test_data = datasets.MNIST(root='./home/manchik-pt7714/Documents/ML Tasks/data', train=False, transform=transform, download=True)\n",
    "\n",
    "train_load = torch.utils.data.DataLoader(train_data, batch_size=100, shuffle=True)\n",
    "test_load = torch.utils.data.DataLoader(test_data, batch_size=100, shuffle=False)"
   ]
  },
  {
   "cell_type": "code",
   "execution_count": 9,
   "id": "b05b061f",
   "metadata": {},
   "outputs": [],
   "source": [
    "class CNN(nn.Module):\n",
    "    def __init__(self):\n",
    "        super(CNN, self).__init__()\n",
    "        self.conv1 = nn.Conv2d(1, 32, kernel_size=3)\n",
    "        self.pool = nn.MaxPool2d(2, 2)\n",
    "        self.fc1 = nn.Linear(32 * 13 * 13, 150)\n",
    "        self.fc2 = nn.Linear(150, 10)\n",
    "        \n",
    "    def forward(self, x):\n",
    "        x = self.pool(torch.relu(self.conv1(x)))\n",
    "        x = x.view(-1, 32 * 13 * 13)\n",
    "        x = torch.relu(self.fc1(x))\n",
    "        x = self.fc2(x)\n",
    "        return x\n",
    "\n",
    "                    \n",
    "model = CNN()"
   ]
  },
  {
   "cell_type": "code",
   "execution_count": 10,
   "id": "5b821af6",
   "metadata": {},
   "outputs": [],
   "source": [
    "criterion = nn.CrossEntropyLoss()\n",
    "optimizer = optim.Adam(model.parameters(), lr=0.0001)  "
   ]
  },
  {
   "cell_type": "code",
   "execution_count": 11,
   "id": "1ce8acfe",
   "metadata": {},
   "outputs": [
    {
     "name": "stdout",
     "output_type": "stream",
     "text": [
      "Epoch 1/100, Loss: 0.5191\n",
      "Epoch 2/100, Loss: 0.1851\n",
      "Epoch 3/100, Loss: 0.1298\n",
      "Epoch 4/100, Loss: 0.1011\n",
      "Epoch 5/100, Loss: 0.0834\n",
      "Epoch 6/100, Loss: 0.0724\n",
      "Epoch 7/100, Loss: 0.0625\n",
      "Epoch 8/100, Loss: 0.0560\n",
      "Epoch 9/100, Loss: 0.0505\n",
      "Epoch 10/100, Loss: 0.0458\n",
      "Epoch 11/100, Loss: 0.0423\n",
      "Epoch 12/100, Loss: 0.0386\n",
      "Epoch 13/100, Loss: 0.0356\n",
      "Epoch 14/100, Loss: 0.0327\n",
      "Epoch 15/100, Loss: 0.0303\n",
      "Epoch 16/100, Loss: 0.0279\n",
      "Epoch 17/100, Loss: 0.0258\n",
      "Epoch 18/100, Loss: 0.0236\n",
      "Epoch 19/100, Loss: 0.0218\n",
      "Epoch 20/100, Loss: 0.0201\n",
      "Epoch 21/100, Loss: 0.0188\n",
      "Epoch 22/100, Loss: 0.0169\n",
      "Epoch 23/100, Loss: 0.0154\n",
      "Epoch 24/100, Loss: 0.0140\n",
      "Epoch 25/100, Loss: 0.0132\n",
      "Epoch 26/100, Loss: 0.0118\n",
      "Epoch 27/100, Loss: 0.0107\n",
      "Epoch 28/100, Loss: 0.0098\n",
      "Epoch 29/100, Loss: 0.0092\n",
      "Epoch 30/100, Loss: 0.0082\n",
      "Epoch 31/100, Loss: 0.0072\n",
      "Epoch 32/100, Loss: 0.0067\n",
      "Epoch 33/100, Loss: 0.0060\n",
      "Epoch 34/100, Loss: 0.0055\n",
      "Epoch 35/100, Loss: 0.0049\n",
      "Epoch 36/100, Loss: 0.0043\n",
      "Epoch 37/100, Loss: 0.0040\n",
      "Epoch 38/100, Loss: 0.0037\n",
      "Epoch 39/100, Loss: 0.0034\n",
      "Epoch 40/100, Loss: 0.0028\n",
      "Epoch 41/100, Loss: 0.0028\n",
      "Epoch 42/100, Loss: 0.0023\n",
      "Epoch 43/100, Loss: 0.0020\n",
      "Epoch 44/100, Loss: 0.0020\n",
      "Epoch 45/100, Loss: 0.0019\n",
      "Epoch 46/100, Loss: 0.0015\n",
      "Epoch 47/100, Loss: 0.0012\n",
      "Epoch 48/100, Loss: 0.0010\n",
      "Epoch 49/100, Loss: 0.0021\n",
      "Epoch 50/100, Loss: 0.0015\n",
      "Epoch 51/100, Loss: 0.0007\n",
      "Epoch 52/100, Loss: 0.0006\n",
      "Epoch 53/100, Loss: 0.0005\n",
      "Epoch 54/100, Loss: 0.0006\n",
      "Epoch 55/100, Loss: 0.0024\n",
      "Epoch 56/100, Loss: 0.0007\n",
      "Epoch 57/100, Loss: 0.0004\n",
      "Epoch 58/100, Loss: 0.0003\n",
      "Epoch 59/100, Loss: 0.0003\n",
      "Epoch 60/100, Loss: 0.0003\n",
      "Epoch 61/100, Loss: 0.0003\n",
      "Epoch 62/100, Loss: 0.0003\n",
      "Epoch 63/100, Loss: 0.0019\n",
      "Epoch 64/100, Loss: 0.0002\n",
      "Epoch 65/100, Loss: 0.0002\n",
      "Epoch 66/100, Loss: 0.0002\n",
      "Epoch 67/100, Loss: 0.0002\n",
      "Epoch 68/100, Loss: 0.0001\n",
      "Epoch 69/100, Loss: 0.0001\n",
      "Epoch 70/100, Loss: 0.0001\n",
      "Epoch 71/100, Loss: 0.0020\n",
      "Epoch 72/100, Loss: 0.0002\n",
      "Epoch 73/100, Loss: 0.0001\n",
      "Epoch 74/100, Loss: 0.0001\n",
      "Epoch 75/100, Loss: 0.0001\n",
      "Epoch 76/100, Loss: 0.0001\n",
      "Epoch 77/100, Loss: 0.0001\n",
      "Epoch 78/100, Loss: 0.0001\n",
      "Epoch 79/100, Loss: 0.0011\n",
      "Epoch 80/100, Loss: 0.0011\n",
      "Epoch 81/100, Loss: 0.0001\n",
      "Epoch 82/100, Loss: 0.0001\n",
      "Epoch 83/100, Loss: 0.0001\n",
      "Epoch 84/100, Loss: 0.0001\n",
      "Epoch 85/100, Loss: 0.0001\n",
      "Epoch 86/100, Loss: 0.0001\n",
      "Epoch 87/100, Loss: 0.0001\n",
      "Epoch 88/100, Loss: 0.0000\n",
      "Epoch 89/100, Loss: 0.0000\n",
      "Epoch 90/100, Loss: 0.0000\n",
      "Epoch 91/100, Loss: 0.0020\n",
      "Epoch 92/100, Loss: 0.0003\n",
      "Epoch 93/100, Loss: 0.0001\n",
      "Epoch 94/100, Loss: 0.0001\n",
      "Epoch 95/100, Loss: 0.0000\n",
      "Epoch 96/100, Loss: 0.0000\n",
      "Epoch 97/100, Loss: 0.0000\n",
      "Epoch 98/100, Loss: 0.0000\n",
      "Epoch 99/100, Loss: 0.0000\n",
      "Epoch 100/100, Loss: 0.0000\n"
     ]
    }
   ],
   "source": [
    "count = 100\n",
    "train_losses = []\n",
    "\n",
    "for epoch in range(count):\n",
    "    epoch_loss = 0.0\n",
    "    for images, labels in train_load:\n",
    "        outputs = model(images)\n",
    "        loss = criterion(outputs, labels)\n",
    "\n",
    "        optimizer.zero_grad()\n",
    "        loss.backward()\n",
    "        optimizer.step()\n",
    "\n",
    "        epoch_loss += loss.item()\n",
    "\n",
    "\n",
    "    train_losses.append(epoch_loss / len(train_load))\n",
    "    print(f\"Epoch {epoch + 1}/{count}, Loss: {train_losses[-1]:.4f}\")"
   ]
  },
  {
   "cell_type": "code",
   "execution_count": 12,
   "id": "4bd30f11",
   "metadata": {},
   "outputs": [
    {
     "data": {
      "image/png": "[encoded data removed]",
      "text/plain": [
       "<Figure size 640x480 with 1 Axes>"
      ]
     },
     "metadata": {},
     "output_type": "display_data"
    }
   ],
   "source": [
    "plt.plot(range(1, count + 1), train_losses, label='Training Loss')\n",
    "plt.xlabel('Epochs')\n",
    "plt.ylabel('Loss')\n",
    "plt.title('Training Loss vs Epochs')\n",
    "plt.legend()\n",
    "plt.show()"
   ]
  },
  {
   "cell_type": "code",
   "execution_count": null,
   "id": "cc502116",
   "metadata": {},
   "outputs": [],
   "source": []
  }
 ],
 "metadata": {
  "kernelspec": {
   "display_name": "Python 3 (ipykernel)",
   "language": "python",
   "name": "python3"
  },
  "language_info": {
   "codemirror_mode": {
    "name": "ipython",
    "version": 3
   },
   "file_extension": ".py",
   "mimetype": "text/x-python",
   "name": "python",
   "nbconvert_exporter": "python",
   "pygments_lexer": "ipython3",
   "version": "3.11.9"
  }
 },
 "nbformat": 4,
 "nbformat_minor": 5
}
