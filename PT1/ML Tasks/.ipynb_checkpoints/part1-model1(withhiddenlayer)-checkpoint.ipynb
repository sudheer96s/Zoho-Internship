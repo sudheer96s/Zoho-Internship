{
 "cells": [
  {
   "cell_type": "code",
   "execution_count": 1,
   "id": "6d3126fd",
   "metadata": {},
   "outputs": [],
   "source": [
    "import torch\n",
    "import torch.nn as nn\n",
    "import torch.optim as optim\n",
    "from torchvision import datasets, transforms\n",
    "import matplotlib.pyplot as plt\n"
   ]
  },
  {
   "cell_type": "code",
   "execution_count": 2,
   "id": "404c3214",
   "metadata": {},
   "outputs": [],
   "source": [
    "transform = transforms.Compose([\n",
    "    transforms.ToTensor(),\n",
    "    transforms.Normalize((0.5),(0.5))\n",
    "])\n",
    "\n",
    "train_data = datasets.FashionMNIST(root='/home/manchik-pt7714/Documents/ML Tasks/data/temp/',train=True,transform=transform,download=False)\n",
    "test_data = datasets.FashionMNIST(root='/home/manchik-pt7714/Documents/ML Tasks/data/temp/',train=False,transform=transform,download=False)\n",
    "\n",
    "train_load = torch.utils.data.DataLoader(train_data, batch_size=100, shuffle=True)\n",
    "test_load = torch.utils.data.DataLoader(test_data, batch_size=100, shuffle=False)"
   ]
  },
  {
   "cell_type": "code",
   "execution_count": 3,
   "id": "30ff5195",
   "metadata": {},
   "outputs": [],
   "source": [
    "class CNN(nn.Module):\n",
    "    def __init__(self):\n",
    "        super(CNN, self).__init__()\n",
    "        self.conv1 = nn.Conv2d(1, 32, kernel_size=3)\n",
    "        self.pool = nn.MaxPool2d(2, 2)\n",
    "        self.fc1 = nn.Linear(32 * 13 * 13, 150)\n",
    "        self.fc2 = nn.Linear(150, 10)\n",
    "        self.dropout = nn.Dropout(0.5)\n",
    "   \n",
    "    def forward(self, x):\n",
    "        x = self.pool(torch.relu(self.conv1(x)))\n",
    "        x = x.view(-1, 32 * 13 * 13)\n",
    "        x = torch.relu(self.fc1(x))\n",
    "        x = self.dropout(x)  \n",
    "        x = self.fc2(x)\n",
    "        return x\n",
    "\n",
    "model = CNN()\n"
   ]
  },
  {
   "cell_type": "code",
   "execution_count": 4,
   "id": "59e6a538",
   "metadata": {},
   "outputs": [],
   "source": [
    "criterion = nn.CrossEntropyLoss()\n",
    "optimizer = optim.Adam(model.parameters(), lr=0.0001, weight_decay=1e-4)  "
   ]
  },
  {
   "cell_type": "code",
   "execution_count": null,
   "id": "380799b6",
   "metadata": {},
   "outputs": [
    {
     "name": "stdout",
     "output_type": "stream",
     "text": [
      "Epoch: 1/100, Training Loss: 0.7893, Validation Loss: 0.4958\n",
      "Epoch: 2/100, Training Loss: 0.4955, Validation Loss: 0.4166\n",
      "Epoch: 3/100, Training Loss: 0.4280, Validation Loss: 0.3801\n",
      "Epoch: 4/100, Training Loss: 0.3899, Validation Loss: 0.3593\n",
      "Epoch: 5/100, Training Loss: 0.3668, Validation Loss: 0.3429\n",
      "Epoch: 6/100, Training Loss: 0.3492, Validation Loss: 0.3291\n",
      "Epoch: 7/100, Training Loss: 0.3342, Validation Loss: 0.3209\n",
      "Epoch: 8/100, Training Loss: 0.3208, Validation Loss: 0.3136\n",
      "Epoch: 9/100, Training Loss: 0.3132, Validation Loss: 0.3056\n",
      "Epoch: 10/100, Training Loss: 0.3049, Validation Loss: 0.3012\n",
      "Epoch: 11/100, Training Loss: 0.2965, Validation Loss: 0.2957\n",
      "Epoch: 12/100, Training Loss: 0.2885, Validation Loss: 0.2923\n",
      "Epoch: 13/100, Training Loss: 0.2826, Validation Loss: 0.2872\n",
      "Epoch: 14/100, Training Loss: 0.2751, Validation Loss: 0.2812\n",
      "Epoch: 15/100, Training Loss: 0.2684, Validation Loss: 0.2767\n",
      "Epoch: 16/100, Training Loss: 0.2630, Validation Loss: 0.2833\n",
      "Epoch: 17/100, Training Loss: 0.2591, Validation Loss: 0.2775\n",
      "Epoch: 18/100, Training Loss: 0.2543, Validation Loss: 0.2687\n",
      "Epoch: 19/100, Training Loss: 0.2469, Validation Loss: 0.2679\n",
      "Epoch: 20/100, Training Loss: 0.2440, Validation Loss: 0.2622\n"
     ]
    }
   ],
   "source": [
    "count = 100\n",
    "train_losses = []\n",
    "val_losses = []\n",
    "early_stop_patience = 10 \n",
    "best_val_loss = float('inf')\n",
    "patience_counter = 0\n",
    "\n",
    "for epoch in range(count):\n",
    "    model.train()  \n",
    "    epoch_train_loss = 0.0\n",
    "    \n",
    "    for images, labels in train_load:\n",
    "        outputs = model(images)\n",
    "        loss = criterion(outputs, labels)\n",
    "        optimizer.zero_grad()\n",
    "        loss.backward()\n",
    "        optimizer.step()\n",
    "        epoch_train_loss += loss.item()\n",
    "        \n",
    "    train_losses.append(epoch_train_loss / len(train_load))\n",
    "    \n",
    "    \n",
    "    model.eval()  \n",
    "    epoch_val_loss = 0.0\n",
    "    \n",
    "    with torch.no_grad(): \n",
    "        for images, labels in test_load:\n",
    "            outputs = model(images)\n",
    "            loss = criterion(outputs, labels)\n",
    "            epoch_val_loss += loss.item()\n",
    "    \n",
    "    val_losses.append(epoch_val_loss / len(test_load))\n",
    "    \n",
    "    \n",
    "    print(f\"Epoch: {epoch + 1}/{count}, Training Loss: {train_losses[-1]:.4f}, Validation Loss: {val_losses[-1]:.4f}\")\n",
    "    \n",
    "    \n",
    "    if val_losses[-1] < best_val_loss:\n",
    "        best_val_loss = val_losses[-1]\n",
    "        patience_counter = 0\n",
    "    else:\n",
    "        patience_counter += 1\n",
    "    \n",
    "    if patience_counter >= early_stop_patience:\n",
    "        print(f\"Early stopping at epoch {epoch + 1}\")\n",
    "        break\n"
   ]
  },
  {
   "cell_type": "code",
   "execution_count": null,
   "id": "0771da4a",
   "metadata": {},
   "outputs": [],
   "source": [
    "def evaluate_accuracy(loader, model):\n",
    "    model.eval()  \n",
    "    correct = 0\n",
    "    total = 0\n",
    "    \n",
    "    with torch.no_grad():  \n",
    "        for images, labels in loader:\n",
    "            outputs = model(images)\n",
    "            _, predicted = torch.max(outputs, 1)  \n",
    "            correct += (predicted == labels).sum().item()\n",
    "            total += labels.size(0)\n",
    "    \n",
    "    accuracy = 100 * correct / total\n",
    "    return accuracy\n",
    "\n",
    "\n",
    "test_accuracy = evaluate_accuracy(test_load, model)\n",
    "print(f\"Test Accuracy: {test_accuracy:.2f}%\")\n"
   ]
  },
  {
   "cell_type": "code",
   "execution_count": null,
   "id": "6d904b57",
   "metadata": {},
   "outputs": [],
   "source": [
    "plt.figure(figsize=(10, 6))\n",
    "plt.plot(range(1, len(train_losses) + 1), train_losses, label='Training Loss', color='blue')\n",
    "plt.plot(range(1, len(val_losses) + 1), val_losses, label='Validation Loss', color='red')\n",
    "plt.xlabel('Epochs')\n",
    "plt.ylabel('Loss')\n",
    "plt.title('Training and Validation Loss vs Epochs')\n",
    "plt.legend()\n",
    "plt.grid(True)\n",
    "plt.show()\n"
   ]
  }
 ],
 "metadata": {
  "kernelspec": {
   "display_name": "Python 3 (ipykernel)",
   "language": "python",
   "name": "python3"
  },
  "language_info": {
   "codemirror_mode": {
    "name": "ipython",
    "version": 3
   },
   "file_extension": ".py",
   "mimetype": "text/x-python",
   "name": "python",
   "nbconvert_exporter": "python",
   "pygments_lexer": "ipython3",
   "version": "3.11.9"
  }
 },
 "nbformat": 4,
 "nbformat_minor": 5
}
