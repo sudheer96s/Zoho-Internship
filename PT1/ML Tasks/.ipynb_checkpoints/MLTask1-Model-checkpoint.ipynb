{
 "cells": [
  {
   "cell_type": "code",
   "execution_count": 36,
   "id": "d383339d",
   "metadata": {},
   "outputs": [],
   "source": [
    "import torch\n",
    "import torch.nn as nn\n",
    "import torch.optim as optim\n",
    "from torchvision import datasets, transforms\n",
    "import matplotlib.pyplot as plt\n"
   ]
  },
  {
   "cell_type": "code",
   "execution_count": 43,
   "id": "2feb2275",
   "metadata": {},
   "outputs": [],
   "source": [
    "transform = transforms.Compose([\n",
    "    transforms.ToTensor(),\n",
    "    transforms.Normalize((0.5),(0.5))\n",
    "])\n",
    "\n",
    "train_data = datasets.FashionMNIST(root='./home/manchik-pt7714/Documents/ML Tasks/data/temp', train=True, transform=transform, download=False)\n",
    "test_data = datasets.FashionMNIST(root='./home/manchik-pt7714/Documents/ML Tasks/data/temp', train=False, transform=transform, download=False)\n",
    "\n",
    "train_load = torch.utils.data.DataLoader(train_data, batch_size=100, shuffle=True)\n",
    "test_load = torch.utils.data.DataLoader(test_data, batch_size=100, shuffle=False)\n",
    "\n"
   ]
  },
  {
   "cell_type": "code",
   "execution_count": 44,
   "id": "b8f4bfd1",
   "metadata": {},
   "outputs": [],
   "source": [
    "class CNN(nn.Module):\n",
    "    def __init__(self):\n",
    "        super(CNN, self).__init__()\n",
    "        self.conv1 = nn.Conv2d(1, 32, kernel_size=3)\n",
    "        self.pool = nn.MaxPool2d(2, 2)\n",
    "        self.fc1 = nn.Linear(32 * 13 * 13, 150)\n",
    "        self.fc2 = nn.Linear(150, 10)\n",
    "   \n",
    "    def forward(self, x):\n",
    "        x = self.pool(torch.relu(self.conv1(x)))\n",
    "        x = x.view(-1, 32 * 13 * 13)\n",
    "        x = torch.relu(self.fc1(x))\n",
    "        x = self.fc2(x)\n",
    "        return x"
   ]
  },
  {
   "cell_type": "code",
   "execution_count": 45,
   "id": "0523b7a6",
   "metadata": {},
   "outputs": [],
   "source": [
    "criterion = nn.CrossEntropyLoss()\n",
    "optimizer = optim.Adam(model.parameters(), lr=0.0001)   \n"
   ]
  },
  {
   "cell_type": "code",
   "execution_count": 46,
   "id": "1f2ec784",
   "metadata": {},
   "outputs": [
    {
     "name": "stdout",
     "output_type": "stream",
     "text": [
      "Epoch 1/100, Loss: 1.9995\n",
      "Epoch 2/100, Loss: 0.6167\n",
      "Epoch 3/100, Loss: 0.4793\n",
      "Epoch 4/100, Loss: 0.4168\n",
      "Epoch 5/100, Loss: 0.3799\n",
      "Epoch 6/100, Loss: 0.3535\n",
      "Epoch 7/100, Loss: 0.3338\n",
      "Epoch 8/100, Loss: 0.3180\n",
      "Epoch 9/100, Loss: 0.3047\n",
      "Epoch 10/100, Loss: 0.2927\n",
      "Epoch 11/100, Loss: 0.2825\n",
      "Epoch 12/100, Loss: 0.2739\n",
      "Epoch 13/100, Loss: 0.2656\n",
      "Epoch 14/100, Loss: 0.2579\n",
      "Epoch 15/100, Loss: 0.2510\n",
      "Epoch 16/100, Loss: 0.2447\n",
      "Epoch 17/100, Loss: 0.2394\n",
      "Epoch 18/100, Loss: 0.2333\n",
      "Epoch 19/100, Loss: 0.2275\n",
      "Epoch 20/100, Loss: 0.2228\n",
      "Epoch 21/100, Loss: 0.2179\n",
      "Epoch 22/100, Loss: 0.2133\n",
      "Epoch 23/100, Loss: 0.2082\n",
      "Epoch 24/100, Loss: 0.2042\n",
      "Epoch 25/100, Loss: 0.1995\n",
      "Epoch 26/100, Loss: 0.1954\n",
      "Epoch 27/100, Loss: 0.1911\n",
      "Epoch 28/100, Loss: 0.1876\n",
      "Epoch 29/100, Loss: 0.1832\n",
      "Epoch 30/100, Loss: 0.1793\n",
      "Epoch 31/100, Loss: 0.1759\n",
      "Epoch 32/100, Loss: 0.1719\n",
      "Epoch 33/100, Loss: 0.1687\n",
      "Epoch 34/100, Loss: 0.1654\n",
      "Epoch 35/100, Loss: 0.1619\n",
      "Epoch 36/100, Loss: 0.1587\n",
      "Epoch 37/100, Loss: 0.1549\n",
      "Epoch 38/100, Loss: 0.1525\n",
      "Epoch 39/100, Loss: 0.1498\n",
      "Epoch 40/100, Loss: 0.1463\n",
      "Epoch 41/100, Loss: 0.1434\n",
      "Epoch 42/100, Loss: 0.1404\n",
      "Epoch 43/100, Loss: 0.1377\n",
      "Epoch 44/100, Loss: 0.1343\n",
      "Epoch 45/100, Loss: 0.1321\n",
      "Epoch 46/100, Loss: 0.1288\n",
      "Epoch 47/100, Loss: 0.1265\n",
      "Epoch 48/100, Loss: 0.1238\n",
      "Epoch 49/100, Loss: 0.1212\n",
      "Epoch 50/100, Loss: 0.1187\n",
      "Epoch 51/100, Loss: 0.1168\n",
      "Epoch 52/100, Loss: 0.1140\n",
      "Epoch 53/100, Loss: 0.1113\n",
      "Epoch 54/100, Loss: 0.1088\n",
      "Epoch 55/100, Loss: 0.1067\n",
      "Epoch 56/100, Loss: 0.1042\n",
      "Epoch 57/100, Loss: 0.1019\n",
      "Epoch 58/100, Loss: 0.0995\n",
      "Epoch 59/100, Loss: 0.0981\n",
      "Epoch 60/100, Loss: 0.0956\n",
      "Epoch 61/100, Loss: 0.0934\n",
      "Epoch 62/100, Loss: 0.0918\n",
      "Epoch 63/100, Loss: 0.0896\n",
      "Epoch 64/100, Loss: 0.0872\n",
      "Epoch 65/100, Loss: 0.0860\n",
      "Epoch 66/100, Loss: 0.0835\n",
      "Epoch 67/100, Loss: 0.0813\n",
      "Epoch 68/100, Loss: 0.0794\n",
      "Epoch 69/100, Loss: 0.0776\n",
      "Epoch 70/100, Loss: 0.0761\n",
      "Epoch 71/100, Loss: 0.0742\n",
      "Epoch 72/100, Loss: 0.0726\n",
      "Epoch 73/100, Loss: 0.0709\n",
      "Epoch 74/100, Loss: 0.0690\n",
      "Epoch 75/100, Loss: 0.0671\n",
      "Epoch 76/100, Loss: 0.0665\n",
      "Epoch 77/100, Loss: 0.0641\n",
      "Epoch 78/100, Loss: 0.0629\n",
      "Epoch 79/100, Loss: 0.0607\n",
      "Epoch 80/100, Loss: 0.0594\n",
      "Epoch 81/100, Loss: 0.0576\n",
      "Epoch 82/100, Loss: 0.0567\n",
      "Epoch 83/100, Loss: 0.0553\n",
      "Epoch 84/100, Loss: 0.0539\n",
      "Epoch 85/100, Loss: 0.0518\n",
      "Epoch 86/100, Loss: 0.0508\n",
      "Epoch 87/100, Loss: 0.0494\n",
      "Epoch 88/100, Loss: 0.0479\n",
      "Epoch 89/100, Loss: 0.0478\n",
      "Epoch 90/100, Loss: 0.0458\n",
      "Epoch 91/100, Loss: 0.0446\n",
      "Epoch 92/100, Loss: 0.0438\n",
      "Epoch 93/100, Loss: 0.0417\n",
      "Epoch 94/100, Loss: 0.0411\n",
      "Epoch 95/100, Loss: 0.0396\n",
      "Epoch 96/100, Loss: 0.0388\n",
      "Epoch 97/100, Loss: 0.0374\n",
      "Epoch 98/100, Loss: 0.0366\n",
      "Epoch 99/100, Loss: 0.0358\n",
      "Epoch 100/100, Loss: 0.0346\n"
     ]
    }
   ],
   "source": [
    "count = 100\n",
    "train_losses = []\n",
    "for epoch in range(count):\n",
    "    epoch_loss = 0.0\n",
    "    for images, labels in train_load:\n",
    "        outputs = model(images)\n",
    "        loss = criterion(outputs, labels)\n",
    "        optimizer.zero_grad()\n",
    "        loss.backward()\n",
    "       \n",
    "        optimizer.step()\n",
    "        epoch_loss += loss.item()\n",
    "\n",
    "   \n",
    "    scheduler.step()\n",
    "\n",
    "    train_losses.append(epoch_loss / len(train_load))\n",
    "    print(f\"Epoch {epoch + 1}/{count}, Loss: {train_losses[-1]:.4f}\")\n"
   ]
  },
  {
   "cell_type": "code",
   "execution_count": 48,
   "id": "116c0818",
   "metadata": {},
   "outputs": [
    {
     "name": "stdout",
     "output_type": "stream",
     "text": [
      "Test Accuracy: 90.88%\n"
     ]
    }
   ],
   "source": [
    "def evaluate_accuracy(loader, model):\n",
    "    model.eval()  \n",
    "    correct = 0\n",
    "    total = 0\n",
    "    \n",
    "    with torch.no_grad():  \n",
    "        for images, labels in loader:\n",
    "            outputs = model(images)\n",
    "            _, predicted = torch.max(outputs, 1)  \n",
    "            correct += (predicted == labels).sum().item()\n",
    "            total += labels.size(0)\n",
    "    \n",
    "    accuracy = 100 * correct / total\n",
    "    return accuracy\n",
    "\n",
    "\n",
    "test_accuracy = evaluate_accuracy(test_load, model)\n",
    "print(f\"Test Accuracy: {test_accuracy:.2f}%\")\n"
   ]
  },
  {
   "cell_type": "code",
   "execution_count": 47,
   "id": "a5a496fa",
   "metadata": {},
   "outputs": [
    {
     "data": {
      "image/png": "[encoded data removed]",
      "text/plain": [
       "<Figure size 640x480 with 1 Axes>"
      ]
     },
     "metadata": {},
     "output_type": "display_data"
    }
   ],
   "source": [
    "plt.plot(range(1, count+1),train_losses,label='Training Loss')\n",
    "plt.xlabel('Epochs')\n",
    "plt.ylabel('Loss')\n",
    "plt.title('Training Loss vs Epochs')\n",
    "plt.legend()\n",
    "plt.show()"
   ]
  }
 ],
 "metadata": {
  "kernelspec": {
   "display_name": "Python 3 (ipykernel)",
   "language": "python",
   "name": "python3"
  },
  "language_info": {
   "codemirror_mode": {
    "name": "ipython",
    "version": 3
   },
   "file_extension": ".py",
   "mimetype": "text/x-python",
   "name": "python",
   "nbconvert_exporter": "python",
   "pygments_lexer": "ipython3",
   "version": "3.11.9"
  }
 },
 "nbformat": 4,
 "nbformat_minor": 5
}
