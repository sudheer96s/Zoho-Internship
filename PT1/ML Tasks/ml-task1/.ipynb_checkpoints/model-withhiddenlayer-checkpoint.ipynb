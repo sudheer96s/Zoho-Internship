{
 "cells": [
  {
   "cell_type": "code",
   "execution_count": 1,
   "metadata": {
    "id": "fsEGyDUR2jXJ"
   },
   "outputs": [],
   "source": [
    "import time\n",
    "import torch\n",
    "import torch.nn as nn\n",
    "import torch.optim as optim\n",
    "from torchvision import datasets, transforms\n",
    "from torch.utils.data import DataLoader, random_split\n",
    "import matplotlib.pyplot as plt\n"
   ]
  },
  {
   "cell_type": "code",
   "execution_count": 3,
   "metadata": {
    "id": "rSJVLk0L2ko5"
   },
   "outputs": [],
   "source": [
    "transform = transforms.Compose([\n",
    "    transforms.ToTensor(),\n",
    "    transforms.Normalize((0.5,), (0.5,))\n",
    "])\n",
    "\n",
    "    train_val_data = datasets.FashionMNIST(root='/home/manchik-pt7714/Documents/ML Tasks/data/temp/',train=True,transform=transform,download=False)\n",
    "test_data = datasets.FashionMNIST(root='/home/manchik-pt7714/Documents/ML Tasks/data/temp/',train=False,transform=transform,download=False)\n",
    "\n",
    "\n",
    "train_size = int(0.8 * len(train_val_data))\n",
    "val_size = len(train_val_data) - train_size\n",
    "train_data, val_data = torch.utils.data.random_split(train_val_data, [train_size, val_size])\n",
    "\n",
    "\n",
    "batch_size = 100\n",
    "\n",
    "train_load = torch.utils.data.DataLoader(train_data, batch_size=batch_size, shuffle=True)\n",
    "val_load = torch.utils.data.DataLoader(val_data, batch_size=batch_size, shuffle=False)\n",
    "test_load = torch.utils.data.DataLoader(test_data, batch_size=batch_size, shuffle=False)\n"
   ]
  },
  {
   "cell_type": "code",
   "execution_count": 4,
   "metadata": {
    "id": "P24M2Nqi3Igi"
   },
   "outputs": [],
   "source": [
    "class CNN(nn.Module):\n",
    "  def __init__(self):\n",
    "      super(CNN, self).__init__()\n",
    "      self.conv1 = nn.Conv2d(1, 32, kernel_size=3)\n",
    "      self.pool = nn.MaxPool2d(2, 2)\n",
    "      self.fc1 = nn.Linear(32 * 13 * 13, 150)\n",
    "      self.fc2 = nn.Linear(150, 10)\n",
    "      self.dropout = nn.Dropout(0.5)\n",
    "\n",
    "  def forward(self, x):\n",
    "      x = self.pool(torch.relu(self.conv1(x)))\n",
    "      x = x.view(-1, 32 * 13 * 13)\n",
    "      x = torch.relu(self.fc1(x))\n",
    "      x = self.dropout(x)\n",
    "      x = self.fc2(x)\n",
    "      return x\n",
    "\n",
    "model = CNN()\n"
   ]
  },
  {
   "cell_type": "code",
   "execution_count": 5,
   "metadata": {
    "id": "QngeSGWh3OBN"
   },
   "outputs": [],
   "source": [
    "criterion = nn.CrossEntropyLoss()\n",
    "optimizer = optim.Adam(model.parameters(), lr=0.0001, weight_decay=1e-4)\n"
   ]
  },
  {
   "cell_type": "code",
   "execution_count": 6,
   "metadata": {
    "colab": {
     "background_save": true,
     "base_uri": "https://localhost:8080/"
    },
    "id": "Mt3kAZrZ25sd",
    "outputId": "b38020d3-3134-46af-90ea-dff9b14280cf"
   },
   "outputs": [
    {
     "name": "stdout",
     "output_type": "stream",
     "text": [
      "Epoch: 1/100, Training Loss: 0.8424, Validation Loss: 0.5100\n",
      "Epoch: 2/100, Training Loss: 0.5250, Validation Loss: 0.4192\n",
      "Epoch: 3/100, Training Loss: 0.4516, Validation Loss: 0.3759\n",
      "Epoch: 4/100, Training Loss: 0.4145, Validation Loss: 0.3593\n",
      "Epoch: 5/100, Training Loss: 0.3826, Validation Loss: 0.3370\n",
      "Epoch: 6/100, Training Loss: 0.3663, Validation Loss: 0.3244\n",
      "Epoch: 7/100, Training Loss: 0.3483, Validation Loss: 0.3205\n",
      "Epoch: 8/100, Training Loss: 0.3355, Validation Loss: 0.3097\n",
      "Epoch: 9/100, Training Loss: 0.3239, Validation Loss: 0.3045\n",
      "Epoch: 10/100, Training Loss: 0.3158, Validation Loss: 0.2987\n",
      "Epoch: 11/100, Training Loss: 0.3041, Validation Loss: 0.2938\n",
      "Epoch: 12/100, Training Loss: 0.2977, Validation Loss: 0.2875\n",
      "Epoch: 13/100, Training Loss: 0.2903, Validation Loss: 0.2872\n",
      "Epoch: 14/100, Training Loss: 0.2857, Validation Loss: 0.2803\n",
      "Epoch: 15/100, Training Loss: 0.2776, Validation Loss: 0.2773\n",
      "Epoch: 16/100, Training Loss: 0.2731, Validation Loss: 0.2732\n",
      "Epoch: 17/100, Training Loss: 0.2686, Validation Loss: 0.2723\n",
      "Epoch: 18/100, Training Loss: 0.2637, Validation Loss: 0.2685\n",
      "Epoch: 19/100, Training Loss: 0.2567, Validation Loss: 0.2683\n",
      "Epoch: 20/100, Training Loss: 0.2512, Validation Loss: 0.2656\n",
      "Epoch: 21/100, Training Loss: 0.2475, Validation Loss: 0.2635\n",
      "Epoch: 22/100, Training Loss: 0.2437, Validation Loss: 0.2611\n",
      "Epoch: 23/100, Training Loss: 0.2380, Validation Loss: 0.2588\n",
      "Epoch: 24/100, Training Loss: 0.2330, Validation Loss: 0.2625\n",
      "Epoch: 25/100, Training Loss: 0.2329, Validation Loss: 0.2571\n",
      "Epoch: 26/100, Training Loss: 0.2270, Validation Loss: 0.2570\n",
      "Epoch: 27/100, Training Loss: 0.2229, Validation Loss: 0.2575\n",
      "Epoch: 28/100, Training Loss: 0.2215, Validation Loss: 0.2554\n",
      "Epoch: 29/100, Training Loss: 0.2172, Validation Loss: 0.2566\n",
      "Epoch: 30/100, Training Loss: 0.2133, Validation Loss: 0.2504\n",
      "Epoch: 31/100, Training Loss: 0.2108, Validation Loss: 0.2535\n",
      "Epoch: 32/100, Training Loss: 0.2065, Validation Loss: 0.2522\n",
      "Epoch: 33/100, Training Loss: 0.2051, Validation Loss: 0.2495\n",
      "Epoch: 34/100, Training Loss: 0.2011, Validation Loss: 0.2464\n",
      "Epoch: 35/100, Training Loss: 0.1973, Validation Loss: 0.2532\n",
      "Epoch: 36/100, Training Loss: 0.1957, Validation Loss: 0.2509\n",
      "Epoch: 37/100, Training Loss: 0.1907, Validation Loss: 0.2475\n",
      "Epoch: 38/100, Training Loss: 0.1891, Validation Loss: 0.2450\n",
      "Epoch: 39/100, Training Loss: 0.1841, Validation Loss: 0.2491\n",
      "Epoch: 40/100, Training Loss: 0.1860, Validation Loss: 0.2432\n",
      "Epoch: 41/100, Training Loss: 0.1799, Validation Loss: 0.2444\n",
      "Epoch: 42/100, Training Loss: 0.1769, Validation Loss: 0.2465\n",
      "Epoch: 43/100, Training Loss: 0.1737, Validation Loss: 0.2460\n",
      "Epoch: 44/100, Training Loss: 0.1715, Validation Loss: 0.2489\n",
      "Epoch: 45/100, Training Loss: 0.1697, Validation Loss: 0.2512\n",
      "Epoch: 46/100, Training Loss: 0.1696, Validation Loss: 0.2474\n",
      "Epoch: 47/100, Training Loss: 0.1655, Validation Loss: 0.2473\n",
      "Epoch: 48/100, Training Loss: 0.1624, Validation Loss: 0.2431\n",
      "Epoch: 49/100, Training Loss: 0.1611, Validation Loss: 0.2501\n",
      "Epoch: 50/100, Training Loss: 0.1595, Validation Loss: 0.2458\n",
      "Epoch: 51/100, Training Loss: 0.1570, Validation Loss: 0.2537\n",
      "Epoch: 52/100, Training Loss: 0.1540, Validation Loss: 0.2452\n",
      "Epoch: 53/100, Training Loss: 0.1538, Validation Loss: 0.2446\n",
      "Epoch: 54/100, Training Loss: 0.1524, Validation Loss: 0.2498\n",
      "Epoch: 55/100, Training Loss: 0.1481, Validation Loss: 0.2505\n",
      "Epoch: 56/100, Training Loss: 0.1458, Validation Loss: 0.2463\n",
      "Epoch: 57/100, Training Loss: 0.1442, Validation Loss: 0.2464\n",
      "Epoch: 58/100, Training Loss: 0.1419, Validation Loss: 0.2452\n",
      "Epoch: 59/100, Training Loss: 0.1398, Validation Loss: 0.2480\n",
      "Epoch: 60/100, Training Loss: 0.1373, Validation Loss: 0.2453\n",
      "Epoch: 61/100, Training Loss: 0.1362, Validation Loss: 0.2464\n",
      "Epoch: 62/100, Training Loss: 0.1343, Validation Loss: 0.2463\n",
      "Epoch: 63/100, Training Loss: 0.1325, Validation Loss: 0.2484\n",
      "Epoch: 64/100, Training Loss: 0.1327, Validation Loss: 0.2476\n",
      "Epoch: 65/100, Training Loss: 0.1288, Validation Loss: 0.2502\n",
      "Epoch: 66/100, Training Loss: 0.1281, Validation Loss: 0.2448\n",
      "Epoch: 67/100, Training Loss: 0.1261, Validation Loss: 0.2451\n",
      "Epoch: 68/100, Training Loss: 0.1235, Validation Loss: 0.2506\n",
      "Epoch: 69/100, Training Loss: 0.1208, Validation Loss: 0.2466\n",
      "Epoch: 70/100, Training Loss: 0.1211, Validation Loss: 0.2484\n",
      "Epoch: 71/100, Training Loss: 0.1167, Validation Loss: 0.2512\n",
      "Epoch: 72/100, Training Loss: 0.1175, Validation Loss: 0.2517\n",
      "Epoch: 73/100, Training Loss: 0.1145, Validation Loss: 0.2522\n",
      "Epoch: 74/100, Training Loss: 0.1133, Validation Loss: 0.2542\n",
      "Epoch: 75/100, Training Loss: 0.1127, Validation Loss: 0.2568\n",
      "Epoch: 76/100, Training Loss: 0.1113, Validation Loss: 0.2550\n",
      "Epoch: 77/100, Training Loss: 0.1107, Validation Loss: 0.2550\n",
      "Epoch: 78/100, Training Loss: 0.1082, Validation Loss: 0.2537\n",
      "Epoch: 79/100, Training Loss: 0.1055, Validation Loss: 0.2576\n",
      "Epoch: 80/100, Training Loss: 0.1051, Validation Loss: 0.2582\n",
      "Epoch: 81/100, Training Loss: 0.1056, Validation Loss: 0.2526\n",
      "Epoch: 82/100, Training Loss: 0.1026, Validation Loss: 0.2609\n",
      "Epoch: 83/100, Training Loss: 0.1017, Validation Loss: 0.2573\n",
      "Epoch: 84/100, Training Loss: 0.1005, Validation Loss: 0.2596\n",
      "Epoch: 85/100, Training Loss: 0.0984, Validation Loss: 0.2674\n",
      "Epoch: 86/100, Training Loss: 0.0969, Validation Loss: 0.2573\n",
      "Epoch: 87/100, Training Loss: 0.0954, Validation Loss: 0.2633\n",
      "Epoch: 88/100, Training Loss: 0.0945, Validation Loss: 0.2585\n",
      "Epoch: 89/100, Training Loss: 0.0927, Validation Loss: 0.2643\n",
      "Epoch: 90/100, Training Loss: 0.0933, Validation Loss: 0.2580\n",
      "Epoch: 91/100, Training Loss: 0.0912, Validation Loss: 0.2629\n",
      "Epoch: 92/100, Training Loss: 0.0897, Validation Loss: 0.2704\n",
      "Epoch: 93/100, Training Loss: 0.0892, Validation Loss: 0.2612\n",
      "Epoch: 94/100, Training Loss: 0.0869, Validation Loss: 0.2637\n",
      "Epoch: 95/100, Training Loss: 0.0861, Validation Loss: 0.2651\n",
      "Epoch: 96/100, Training Loss: 0.0855, Validation Loss: 0.2657\n",
      "Epoch: 97/100, Training Loss: 0.0863, Validation Loss: 0.2752\n",
      "Epoch: 98/100, Training Loss: 0.0835, Validation Loss: 0.2682\n",
      "Epoch: 99/100, Training Loss: 0.0839, Validation Loss: 0.2700\n",
      "Epoch: 100/100, Training Loss: 0.0807, Validation Loss: 0.2690\n",
      "Training time: 1713.22 seconds\n"
     ]
    }
   ],
   "source": [
    "start = time.time()\n",
    "\n",
    "epochs = 100\n",
    "train_losses = []\n",
    "val_losses = []\n",
    "\n",
    "for epoch in range(epochs):\n",
    "    model.train()\n",
    "    train_loss = 0.0\n",
    "\n",
    "    for images, labels in train_load:\n",
    "        outputs = model(images)\n",
    "        loss = criterion(outputs, labels)\n",
    "        optimizer.zero_grad()\n",
    "        loss.backward()\n",
    "        optimizer.step()\n",
    "        train_loss += loss.item()\n",
    "\n",
    "    train_losses.append(train_loss / len(train_load))\n",
    "\n",
    "\n",
    "    model.eval()\n",
    "    val_loss = 0.0\n",
    "\n",
    "    with torch.no_grad():\n",
    "        for images, labels in val_load:\n",
    "            outputs = model(images)\n",
    "            loss = criterion(outputs, labels)\n",
    "            val_loss += loss.item()\n",
    "\n",
    "    val_losses.append(val_loss / len(val_load))\n",
    "\n",
    "    print(f\"Epoch: {epoch + 1}/{epochs}, Training Loss: {train_losses[-1]:.4f}, Validation Loss: {val_losses[-1]:.4f}\")\n",
    "\n",
    "end = time.time()\n",
    "print(f\"Training time: {end - start:.2f} seconds\")\n"
   ]
  },
  {
   "cell_type": "code",
   "execution_count": 7,
   "metadata": {
    "id": "e39Zf1053VUQ"
   },
   "outputs": [
    {
     "name": "stdout",
     "output_type": "stream",
     "text": [
      "Test Accuracy: 91.70%\n"
     ]
    }
   ],
   "source": [
    "def evaluate_accuracy(loader, model):\n",
    "    model.eval()\n",
    "    correct = 0\n",
    "    total = 0\n",
    "\n",
    "    with torch.no_grad():\n",
    "        for images, labels in loader:\n",
    "            outputs = model(images)\n",
    "            _, predicted = torch.max(outputs, 1)\n",
    "            correct += (predicted == labels).sum().item()\n",
    "            total += labels.size(0)\n",
    "\n",
    "    accuracy = 100 * correct / total\n",
    "    return accuracy\n",
    "\n",
    "\n",
    "test_accuracy = evaluate_accuracy(test_load, model)\n",
    "print(f\"Test Accuracy: {test_accuracy:.2f}%\")\n"
   ]
  },
  {
   "cell_type": "code",
   "execution_count": 8,
   "metadata": {
    "id": "ujGOI6CL3Wkq"
   },
   "outputs": [
    {
     "data": {
      "image/png": "[encoded data removed]",
      "text/plain": [
       "<Figure size 1000x600 with 1 Axes>"
      ]
     },
     "metadata": {},
     "output_type": "display_data"
    }
   ],
   "source": [
    "plt.figure(figsize=(10, 6))\n",
    "plt.plot(range(1, epochs + 1), train_losses, label='Training Loss', color='blue')\n",
    "plt.plot(range(1, epochs + 1), val_losses, label='Validation Loss', color='red')\n",
    "plt.xlabel('Epochs')\n",
    "plt.ylabel('Loss')\n",
    "plt.title('Training and Validation Loss vs Epochs')\n",
    "plt.legend()\n",
    "plt.grid(True)\n",
    "plt.show()\n"
   ]
  },
  {
   "cell_type": "code",
   "execution_count": null,
   "metadata": {
    "id": "6VjvwFrH8nuw"
   },
   "outputs": [],
   "source": []
  }
 ],
 "metadata": {
  "colab": {
   "provenance": []
  },
  "kernelspec": {
   "display_name": "Python 3 (ipykernel)",
   "language": "python",
   "name": "python3"
  },
  "language_info": {
   "codemirror_mode": {
    "name": "ipython",
    "version": 3
   },
   "file_extension": ".py",
   "mimetype": "text/x-python",
   "name": "python",
   "nbconvert_exporter": "python",
   "pygments_lexer": "ipython3",
   "version": "3.11.9"
  }
 },
 "nbformat": 4,
 "nbformat_minor": 1
}
