{
 "cells": [
  {
   "cell_type": "code",
   "execution_count": 1,
   "id": "14485d80",
   "metadata": {},
   "outputs": [],
   "source": [
    "import torch\n",
    "import torch.nn as nn\n",
    "import torch.optim as optim\n",
    "from torchvision import datasets, transforms\n",
    "import matplotlib.pyplot as plt\n"
   ]
  },
  {
   "cell_type": "code",
   "execution_count": 2,
   "id": "e6757dfa",
   "metadata": {},
   "outputs": [],
   "source": [
    "transform = transforms.Compose([\n",
    "    transforms.ToTensor(),\n",
    "    transforms.Normalize((0.5),(0.5))\n",
    "])\n",
    "\n",
    "train_data = datasets.FashionMNIST(root='/home/manchik-pt7714/Documents/ML Tasks/data/temp/',train=True,transform=transform,download=False)\n",
    "test_data = datasets.FashionMNIST(root='/home/manchik-pt7714/Documents/ML Tasks/data/temp/',train=False,transform=transform,download=False)\n",
    "\n",
    "train_load = torch.utils.data.DataLoader(train_data, batch_size=100, shuffle=True)\n",
    "test_load = torch.utils.data.DataLoader(test_data, batch_size=100, shuffle=False)"
   ]
  },
  {
   "cell_type": "code",
   "execution_count": 3,
   "id": "74c4be55",
   "metadata": {},
   "outputs": [],
   "source": [
    "class CNN(nn.Module):\n",
    "    def __init__(self):\n",
    "        super(CNN,self).__init__()\n",
    "        self.conv1 = nn.Conv2d(1,32,kernel_size=3)\n",
    "        self.pool = nn.MaxPool2d(2,2)\n",
    "        self.fc = nn.Linear(32*13*13,10)\n",
    "        \n",
    "    def forward(self,x):\n",
    "        x = self.pool(torch.relu(self.conv1(x)))\n",
    "        x = x.view(-1,32*13*13)\n",
    "        x = self.fc(x)\n",
    "        return x\n",
    "        \n",
    "model = CNN()"
   ]
  },
  {
   "cell_type": "code",
   "execution_count": 4,
   "id": "805073dc",
   "metadata": {},
   "outputs": [],
   "source": [
    "criterion = nn.CrossEntropyLoss()\n",
    "optimizer = optim.Adam(model.parameters(), lr=0.0001, weight_decay=1e-4)  "
   ]
  },
  {
   "cell_type": "code",
   "execution_count": 5,
   "id": "6b147326",
   "metadata": {},
   "outputs": [
    {
     "name": "stdout",
     "output_type": "stream",
     "text": [
      "Epoch: 1/100, Training Loss: 0.7381, Validation Loss: 0.5078\n",
      "Epoch: 2/100, Training Loss: 0.4417, Validation Loss: 0.4357\n",
      "Epoch: 3/100, Training Loss: 0.3872, Validation Loss: 0.3971\n",
      "Epoch: 4/100, Training Loss: 0.3585, Validation Loss: 0.3735\n",
      "Epoch: 5/100, Training Loss: 0.3400, Validation Loss: 0.3586\n",
      "Epoch: 6/100, Training Loss: 0.3267, Validation Loss: 0.3566\n",
      "Epoch: 7/100, Training Loss: 0.3156, Validation Loss: 0.3459\n",
      "Epoch: 8/100, Training Loss: 0.3071, Validation Loss: 0.3353\n",
      "Epoch: 9/100, Training Loss: 0.2996, Validation Loss: 0.3267\n",
      "Epoch: 10/100, Training Loss: 0.2939, Validation Loss: 0.3218\n",
      "Epoch: 11/100, Training Loss: 0.2877, Validation Loss: 0.3206\n",
      "Epoch: 12/100, Training Loss: 0.2833, Validation Loss: 0.3205\n",
      "Epoch: 13/100, Training Loss: 0.2773, Validation Loss: 0.3135\n",
      "Epoch: 14/100, Training Loss: 0.2737, Validation Loss: 0.3089\n",
      "Epoch: 15/100, Training Loss: 0.2698, Validation Loss: 0.3088\n",
      "Epoch: 16/100, Training Loss: 0.2662, Validation Loss: 0.3069\n",
      "Epoch: 17/100, Training Loss: 0.2620, Validation Loss: 0.3053\n",
      "Epoch: 18/100, Training Loss: 0.2584, Validation Loss: 0.3028\n",
      "Epoch: 19/100, Training Loss: 0.2561, Validation Loss: 0.3058\n",
      "Epoch: 20/100, Training Loss: 0.2538, Validation Loss: 0.2977\n",
      "Epoch: 21/100, Training Loss: 0.2498, Validation Loss: 0.2958\n",
      "Epoch: 22/100, Training Loss: 0.2476, Validation Loss: 0.2968\n",
      "Epoch: 23/100, Training Loss: 0.2442, Validation Loss: 0.2965\n",
      "Epoch: 24/100, Training Loss: 0.2428, Validation Loss: 0.2970\n",
      "Epoch: 25/100, Training Loss: 0.2396, Validation Loss: 0.2920\n",
      "Epoch: 26/100, Training Loss: 0.2371, Validation Loss: 0.2904\n",
      "Epoch: 27/100, Training Loss: 0.2346, Validation Loss: 0.2874\n",
      "Epoch: 28/100, Training Loss: 0.2331, Validation Loss: 0.2897\n",
      "Epoch: 29/100, Training Loss: 0.2311, Validation Loss: 0.2875\n",
      "Epoch: 30/100, Training Loss: 0.2291, Validation Loss: 0.2868\n",
      "Epoch: 31/100, Training Loss: 0.2271, Validation Loss: 0.2926\n",
      "Epoch: 32/100, Training Loss: 0.2252, Validation Loss: 0.2836\n",
      "Epoch: 33/100, Training Loss: 0.2238, Validation Loss: 0.2868\n",
      "Epoch: 34/100, Training Loss: 0.2215, Validation Loss: 0.2844\n",
      "Epoch: 35/100, Training Loss: 0.2200, Validation Loss: 0.2854\n",
      "Epoch: 36/100, Training Loss: 0.2181, Validation Loss: 0.2863\n",
      "Epoch: 37/100, Training Loss: 0.2163, Validation Loss: 0.2812\n",
      "Epoch: 38/100, Training Loss: 0.2147, Validation Loss: 0.2816\n",
      "Epoch: 39/100, Training Loss: 0.2125, Validation Loss: 0.2783\n",
      "Epoch: 40/100, Training Loss: 0.2114, Validation Loss: 0.2781\n",
      "Epoch: 41/100, Training Loss: 0.2101, Validation Loss: 0.2786\n",
      "Epoch: 42/100, Training Loss: 0.2084, Validation Loss: 0.2766\n",
      "Epoch: 43/100, Training Loss: 0.2073, Validation Loss: 0.2839\n",
      "Epoch: 44/100, Training Loss: 0.2059, Validation Loss: 0.2770\n",
      "Epoch: 45/100, Training Loss: 0.2049, Validation Loss: 0.2773\n",
      "Epoch: 46/100, Training Loss: 0.2034, Validation Loss: 0.2745\n",
      "Epoch: 47/100, Training Loss: 0.2025, Validation Loss: 0.2782\n",
      "Epoch: 48/100, Training Loss: 0.2002, Validation Loss: 0.2767\n",
      "Epoch: 49/100, Training Loss: 0.1995, Validation Loss: 0.2753\n",
      "Epoch: 50/100, Training Loss: 0.1980, Validation Loss: 0.2766\n",
      "Epoch: 51/100, Training Loss: 0.1965, Validation Loss: 0.2764\n",
      "Epoch: 52/100, Training Loss: 0.1954, Validation Loss: 0.2753\n",
      "Epoch: 53/100, Training Loss: 0.1939, Validation Loss: 0.2762\n",
      "Epoch: 54/100, Training Loss: 0.1937, Validation Loss: 0.2753\n",
      "Epoch: 55/100, Training Loss: 0.1917, Validation Loss: 0.2736\n",
      "Epoch: 56/100, Training Loss: 0.1908, Validation Loss: 0.2731\n",
      "Epoch: 57/100, Training Loss: 0.1902, Validation Loss: 0.2718\n",
      "Epoch: 58/100, Training Loss: 0.1886, Validation Loss: 0.2737\n",
      "Epoch: 59/100, Training Loss: 0.1873, Validation Loss: 0.2744\n",
      "Epoch: 60/100, Training Loss: 0.1869, Validation Loss: 0.2770\n",
      "Epoch: 61/100, Training Loss: 0.1854, Validation Loss: 0.2732\n",
      "Epoch: 62/100, Training Loss: 0.1843, Validation Loss: 0.2724\n",
      "Epoch: 63/100, Training Loss: 0.1831, Validation Loss: 0.2770\n",
      "Epoch: 64/100, Training Loss: 0.1823, Validation Loss: 0.2715\n",
      "Epoch: 65/100, Training Loss: 0.1812, Validation Loss: 0.2746\n",
      "Epoch: 66/100, Training Loss: 0.1803, Validation Loss: 0.2719\n",
      "Epoch: 67/100, Training Loss: 0.1789, Validation Loss: 0.2774\n",
      "Epoch: 68/100, Training Loss: 0.1787, Validation Loss: 0.2742\n",
      "Epoch: 69/100, Training Loss: 0.1776, Validation Loss: 0.2731\n",
      "Epoch: 70/100, Training Loss: 0.1770, Validation Loss: 0.2714\n",
      "Epoch: 71/100, Training Loss: 0.1759, Validation Loss: 0.2711\n",
      "Epoch: 72/100, Training Loss: 0.1749, Validation Loss: 0.2734\n",
      "Epoch: 73/100, Training Loss: 0.1743, Validation Loss: 0.2697\n",
      "Epoch: 74/100, Training Loss: 0.1728, Validation Loss: 0.2706\n",
      "Epoch: 75/100, Training Loss: 0.1725, Validation Loss: 0.2756\n",
      "Epoch: 76/100, Training Loss: 0.1711, Validation Loss: 0.2715\n",
      "Epoch: 77/100, Training Loss: 0.1709, Validation Loss: 0.2716\n",
      "Epoch: 78/100, Training Loss: 0.1698, Validation Loss: 0.2678\n",
      "Epoch: 79/100, Training Loss: 0.1691, Validation Loss: 0.2720\n",
      "Epoch: 80/100, Training Loss: 0.1683, Validation Loss: 0.2730\n",
      "Epoch: 81/100, Training Loss: 0.1682, Validation Loss: 0.2679\n",
      "Epoch: 82/100, Training Loss: 0.1669, Validation Loss: 0.2691\n",
      "Epoch: 83/100, Training Loss: 0.1662, Validation Loss: 0.2730\n",
      "Epoch: 84/100, Training Loss: 0.1652, Validation Loss: 0.2713\n",
      "Epoch: 85/100, Training Loss: 0.1648, Validation Loss: 0.2681\n",
      "Epoch: 86/100, Training Loss: 0.1640, Validation Loss: 0.2712\n",
      "Epoch: 87/100, Training Loss: 0.1626, Validation Loss: 0.2708\n",
      "Epoch: 88/100, Training Loss: 0.1619, Validation Loss: 0.2671\n",
      "Epoch: 89/100, Training Loss: 0.1616, Validation Loss: 0.2725\n",
      "Epoch: 90/100, Training Loss: 0.1607, Validation Loss: 0.2709\n",
      "Epoch: 91/100, Training Loss: 0.1601, Validation Loss: 0.2669\n",
      "Epoch: 92/100, Training Loss: 0.1599, Validation Loss: 0.2698\n",
      "Epoch: 93/100, Training Loss: 0.1588, Validation Loss: 0.2687\n",
      "Epoch: 94/100, Training Loss: 0.1585, Validation Loss: 0.2687\n",
      "Epoch: 95/100, Training Loss: 0.1581, Validation Loss: 0.2752\n",
      "Epoch: 96/100, Training Loss: 0.1565, Validation Loss: 0.2692\n",
      "Epoch: 97/100, Training Loss: 0.1563, Validation Loss: 0.2685\n",
      "Epoch: 98/100, Training Loss: 0.1558, Validation Loss: 0.2679\n",
      "Epoch: 99/100, Training Loss: 0.1544, Validation Loss: 0.2704\n",
      "Epoch: 100/100, Training Loss: 0.1548, Validation Loss: 0.2755\n"
     ]
    }
   ],
   "source": [
    "count = 100\n",
    "train_losses = []\n",
    "val_losses = []\n",
    "\n",
    "for epoch in range(count):\n",
    "    model.train()  \n",
    "    epoch_train_loss = 0.0\n",
    "    \n",
    "    for images, labels in train_load:\n",
    "        outputs = model(images)\n",
    "        loss = criterion(outputs, labels)\n",
    "        optimizer.zero_grad()\n",
    "        loss.backward()\n",
    "        optimizer.step()\n",
    "        epoch_train_loss += loss.item()\n",
    "        \n",
    "    train_losses.append(epoch_train_loss / len(train_load))\n",
    "    \n",
    "    \n",
    "    model.eval()  \n",
    "    epoch_val_loss = 0.0\n",
    "    \n",
    "    with torch.no_grad(): \n",
    "        for images, labels in test_load:\n",
    "            outputs = model(images)\n",
    "            loss = criterion(outputs, labels)\n",
    "            epoch_val_loss += loss.item()\n",
    "    \n",
    "    val_losses.append(epoch_val_loss / len(test_load))\n",
    "    \n",
    "    \n",
    "    print(f\"Epoch: {epoch + 1}/{count}, Training Loss: {train_losses[-1]:.4f}, Validation Loss: {val_losses[-1]:.4f}\")\n",
    "    \n"
   ]
  },
  {
   "cell_type": "code",
   "execution_count": 6,
   "id": "a18371f2",
   "metadata": {},
   "outputs": [
    {
     "name": "stdout",
     "output_type": "stream",
     "text": [
      "Test Accuracy: 90.32%\n"
     ]
    }
   ],
   "source": [
    "def evaluate_accuracy(loader, model):\n",
    "    model.eval()  \n",
    "    correct = 0\n",
    "    total = 0\n",
    "    \n",
    "    with torch.no_grad():  \n",
    "        for images, labels in loader:\n",
    "            outputs = model(images)\n",
    "            _, predicted = torch.max(outputs, 1)  \n",
    "            correct += (predicted == labels).sum().item()\n",
    "            total += labels.size(0)\n",
    "    \n",
    "    accuracy = 100 * correct / total\n",
    "    return accuracy\n",
    "\n",
    "\n",
    "test_accuracy = evaluate_accuracy(test_load, model)\n",
    "print(f\"Test Accuracy: {test_accuracy:.2f}%\")\n"
   ]
  },
  {
   "cell_type": "code",
   "execution_count": 7,
   "id": "01a0af4b",
   "metadata": {},
   "outputs": [
    {
     "data": {
      "image/png": "[encoded data removed]",
      "text/plain": [
       "<Figure size 1000x600 with 1 Axes>"
      ]
     },
     "metadata": {},
     "output_type": "display_data"
    }
   ],
   "source": [
    "plt.figure(figsize=(10, 6))\n",
    "plt.plot(range(1, len(train_losses) + 1), train_losses, label='Training Loss', color='blue')\n",
    "plt.plot(range(1, len(val_losses) + 1), val_losses, label='Validation Loss', color='red')\n",
    "plt.xlabel('Epochs')\n",
    "plt.ylabel('Loss')\n",
    "plt.title('Training and Validation Loss vs Epochs')\n",
    "plt.legend()\n",
    "plt.grid(True)\n",
    "plt.show()\n"
   ]
  },
  {
   "cell_type": "code",
   "execution_count": null,
   "id": "0a1d9364",
   "metadata": {},
   "outputs": [],
   "source": []
  }
 ],
 "metadata": {
  "kernelspec": {
   "display_name": "Python 3 (ipykernel)",
   "language": "python",
   "name": "python3"
  },
  "language_info": {
   "codemirror_mode": {
    "name": "ipython",
    "version": 3
   },
   "file_extension": ".py",
   "mimetype": "text/x-python",
   "name": "python",
   "nbconvert_exporter": "python",
   "pygments_lexer": "ipython3",
   "version": "3.11.9"
  }
 },
 "nbformat": 4,
 "nbformat_minor": 5
}
