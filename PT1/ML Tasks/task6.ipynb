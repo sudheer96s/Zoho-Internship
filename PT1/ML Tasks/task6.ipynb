{
 "cells": [
  {
   "cell_type": "markdown",
   "id": "d08dc15d",
   "metadata": {},
   "source": [
    "# Process of vectorization"
   ]
  },
  {
   "cell_type": "code",
   "execution_count": 11,
   "id": "17f98489",
   "metadata": {},
   "outputs": [
    {
     "name": "stdout",
     "output_type": "stream",
     "text": [
      "32\n",
      "0.000186920166015625\n",
      "32\n",
      "0.0001742839813232422\n"
     ]
    }
   ],
   "source": [
    "import time\n",
    "t = time.time()\n",
    "\n",
    "a = [1, 2, 3]\n",
    "b = [4, 5, 6]\n",
    "result = 0\n",
    "for i in range(len(a)):\n",
    "    result += a[i] * b[i]\n",
    "print(result)  \n",
    "\n",
    "duration= time.time()-t\n",
    "print(duration)\n",
    "\n",
    "import numpy as np\n",
    "\n",
    "t = 0\n",
    "t= time.time()\n",
    "\n",
    "\n",
    "a = np.array([1, 2, 3])\n",
    "b = np.array([4, 5, 6])\n",
    "result = np.dot(a, b)\n",
    "print(result)  \n",
    "duration = 0\n",
    "duration= time.time()-t\n",
    "print(duration)\n"
   ]
  },
  {
   "cell_type": "code",
   "execution_count": 12,
   "id": "5110798a",
   "metadata": {},
   "outputs": [
    {
     "name": "stdout",
     "output_type": "stream",
     "text": [
      "hello\n"
     ]
    }
   ],
   "source": [
    "print(\"hello\")"
   ]
  },
  {
   "cell_type": "code",
   "execution_count": null,
   "id": "e972882a",
   "metadata": {},
   "outputs": [],
   "source": []
  }
 ],
 "metadata": {
  "kernelspec": {
   "display_name": "Python 3 (ipykernel)",
   "language": "python",
   "name": "python3"
  },
  "language_info": {
   "codemirror_mode": {
    "name": "ipython",
    "version": 3
   },
   "file_extension": ".py",
   "mimetype": "text/x-python",
   "name": "python",
   "nbconvert_exporter": "python",
   "pygments_lexer": "ipython3",
   "version": "3.11.9"
  }
 },
 "nbformat": 4,
 "nbformat_minor": 5
}
